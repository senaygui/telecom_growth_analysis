{
 "cells": [
  {
   "cell_type": "markdown",
   "metadata": {},
   "source": [
    "# Task 2: User Engagement Analysis"
   ]
  },
  {
   "cell_type": "markdown",
   "metadata": {},
   "source": [
    "##  Import Libraries"
   ]
  },
  {
   "cell_type": "code",
   "execution_count": 1,
   "metadata": {},
   "outputs": [
    {
     "name": "stdout",
     "output_type": "stream",
     "text": [
      "Connected to PostgreSQL database!\n",
      "Connection closed.\n"
     ]
    }
   ],
   "source": [
    "import sys\n",
    "import os\n",
    "import pandas as pd\n",
    "import numpy as np\n",
    "import matplotlib.pyplot as plt\n",
    "import psycopg2\n",
    "from dotenv import load_dotenv\n",
    "from sqlalchemy import create_engine\n",
    "os.chdir('..')\n",
    "from Db_connection.connection import PostgresConnection\n",
    "from src.utils import *\n"
   ]
  },
  {
   "cell_type": "markdown",
   "metadata": {},
   "source": [
    "## Connect To PostgreSQL Database"
   ]
  },
  {
   "cell_type": "code",
   "execution_count": 3,
   "metadata": {},
   "outputs": [
    {
     "name": "stdout",
     "output_type": "stream",
     "text": [
      "Connected to PostgreSQL database!\n",
      "      Bearer Id            Start  Start ms              End  End ms  \\\n",
      "0  1.311448e+19   4/4/2019 12:01     770.0  4/25/2019 14:35   662.0   \n",
      "1  1.311448e+19   4/9/2019 13:04     235.0   4/25/2019 8:15   606.0   \n",
      "2  1.311448e+19   4/9/2019 17:42       1.0  4/25/2019 11:58   652.0   \n",
      "3  1.311448e+19   4/10/2019 0:31     486.0   4/25/2019 7:36   171.0   \n",
      "4  1.311448e+19  4/12/2019 20:10     565.0  4/25/2019 10:40   954.0   \n",
      "\n",
      "   Dur. (ms)          IMSI  MSISDN/Number          IMEI  \\\n",
      "0  1823652.0  2.082014e+14   3.366496e+10  3.552121e+13   \n",
      "1  1365104.0  2.082019e+14   3.368185e+10  3.579401e+13   \n",
      "2  1361762.0  2.082003e+14   3.376063e+10  3.528151e+13   \n",
      "3  1321509.0  2.082014e+14   3.375034e+10  3.535661e+13   \n",
      "4  1089009.0  2.082014e+14   3.369980e+10  3.540701e+13   \n",
      "\n",
      "      Last Location Name  ...  Youtube DL (Bytes)  Youtube UL (Bytes)  \\\n",
      "0  9.16456699548519E+015  ...          15854611.0           2501332.0   \n",
      "1                L77566A  ...          20247395.0          19111729.0   \n",
      "2                D42335A  ...          19725661.0          14699576.0   \n",
      "3                T21824A  ...          21388122.0          15146643.0   \n",
      "4                D88865A  ...          15259380.0          18962873.0   \n",
      "\n",
      "   Netflix DL (Bytes)  Netflix UL (Bytes)  Gaming DL (Bytes)  \\\n",
      "0           8198936.0           9656251.0        278082303.0   \n",
      "1          18338413.0          17227132.0        608750074.0   \n",
      "2          17587794.0           6163408.0        229584621.0   \n",
      "3          13994646.0           1097942.0        799538153.0   \n",
      "4          17124581.0            415218.0        527707248.0   \n",
      "\n",
      "   Gaming UL (Bytes)  Other DL (Bytes)  Other UL (Bytes)  Total UL (Bytes)  \\\n",
      "0         14344150.0       171744450.0         8814393.0        36749741.0   \n",
      "1          1170709.0       526904238.0        15055145.0        53800391.0   \n",
      "2           395630.0       410692588.0         4215763.0        27883638.0   \n",
      "3         10849722.0       749039933.0        12797283.0        43324218.0   \n",
      "4          3529801.0       550709500.0        13910322.0        38542814.0   \n",
      "\n",
      "   Total DL (Bytes)  \n",
      "0       308879636.0  \n",
      "1       653384965.0  \n",
      "2       279807335.0  \n",
      "3       846028530.0  \n",
      "4       569138589.0  \n",
      "\n",
      "[5 rows x 55 columns]\n",
      "Connection closed.\n"
     ]
    }
   ],
   "source": [
    "db = PostgresConnection(dbname='telecom', user='postgres', password='postgres')\n",
    "db.connect()\n",
    "\n",
    "# Query the table to verify the write\n",
    "query = \"SELECT * FROM xdr_data_cleaned\"\n",
    "result = db.execute_query(query)\n",
    "\n",
    "# Convert result to a DataFrame and display the information\n",
    "df_cleaned = pd.DataFrame(result, columns=[desc[0] for desc in db.cursor.description])\n",
    "print(df_cleaned.head())\n",
    "\n",
    "# Close the connection\n",
    "db.close_connection()"
   ]
  },
  {
   "cell_type": "markdown",
   "metadata": {},
   "source": [
    "## Aggregate Metrics per Customer ID (MSISDN)"
   ]
  },
  {
   "cell_type": "code",
   "execution_count": 5,
   "metadata": {},
   "outputs": [
    {
     "name": "stdout",
     "output_type": "stream",
     "text": [
      "               sessions_frequency  total_duration  total_traffic\n",
      "MSISDN/Number                                                   \n",
      "3.362632e+10                   18       8791927.0   1.599664e+10\n",
      "3.361489e+10                   17       9966898.0   1.634152e+10\n",
      "3.362578e+10                   17      18553754.0   1.470127e+10\n",
      "3.365973e+10                   16       4035428.0   1.388841e+10\n",
      "3.367588e+10                   15       4865947.0   1.455618e+10\n",
      "3.376054e+10                   15       9279434.0   1.310481e+10\n",
      "3.366716e+10                   13       8744914.0   1.045593e+10\n",
      "3.360313e+10                   12       6287761.0   1.119890e+10\n",
      "3.360452e+10                   12       5207990.0   9.547813e+09\n",
      "3.362708e+10                   12       4703516.0   1.079448e+10\n",
      "               sessions_frequency  total_duration  total_traffic\n",
      "MSISDN/Number                                                   \n",
      "3.362578e+10                   17      18553754.0   1.470127e+10\n",
      "3.361489e+10                   17       9966898.0   1.634152e+10\n",
      "3.376054e+10                   15       9279434.0   1.310481e+10\n",
      "3.362632e+10                   18       8791927.0   1.599664e+10\n",
      "3.366716e+10                   13       8744914.0   1.045593e+10\n",
      "3.366284e+10                    9       6614270.0   7.893475e+09\n",
      "3.366469e+10                    9       6288730.0   1.054496e+10\n",
      "3.360313e+10                   12       6287761.0   1.119890e+10\n",
      "3.366746e+10                    6       5649882.0   5.377518e+09\n",
      "3.376041e+10                   12       5321667.0   1.112087e+10\n",
      "               sessions_frequency  total_duration  total_traffic\n",
      "MSISDN/Number                                                   \n",
      "3.361489e+10                   17       9966898.0   1.634152e+10\n",
      "3.362632e+10                   18       8791927.0   1.599664e+10\n",
      "3.362578e+10                   17      18553754.0   1.470127e+10\n",
      "3.367588e+10                   15       4865947.0   1.455618e+10\n",
      "3.365973e+10                   16       4035428.0   1.388841e+10\n",
      "3.376054e+10                   15       9279434.0   1.310481e+10\n",
      "3.366646e+10                   11       4536757.0   1.157071e+10\n",
      "3.365836e+10                   10       2131710.0   1.135818e+10\n",
      "3.360313e+10                   12       6287761.0   1.119890e+10\n",
      "3.369879e+10                   11       5169128.0   1.113905e+10\n"
     ]
    }
   ],
   "source": [
    "# Define DL and UL columns\n",
    "dl_columns = [\n",
    "    'Social Media DL (Bytes)', \n",
    "    'Google DL (Bytes)', \n",
    "    'Email DL (Bytes)', \n",
    "    'Youtube DL (Bytes)', \n",
    "    'Netflix DL (Bytes)', \n",
    "    'Gaming DL (Bytes)', \n",
    "    'Other DL (Bytes)'\n",
    "]\n",
    "\n",
    "ul_columns = [\n",
    "    'Social Media UL (Bytes)', \n",
    "    'Google UL (Bytes)', \n",
    "    'Email UL (Bytes)', \n",
    "    'Youtube UL (Bytes)', \n",
    "    'Netflix UL (Bytes)', \n",
    "    'Gaming UL (Bytes)', \n",
    "    'Other UL (Bytes)'\n",
    "]\n",
    "\n",
    "agg_data = df_cleaned.groupby('MSISDN/Number').agg(\n",
    "    sessions_frequency=('Bearer Id', 'count'),\n",
    "    total_duration=('Dur. (ms)', 'sum'),\n",
    "    **{col: (col, 'sum') for col in dl_columns},  # Sum each DL column\n",
    "    **{col: (col, 'sum') for col in ul_columns}   # Sum each UL column\n",
    ")\n",
    "\n",
    "# Calculate total data volume\n",
    "agg_data['total_traffic'] = agg_data[dl_columns].sum(axis=1) + agg_data[ul_columns].sum(axis=1)\n",
    "\n",
    "# Drop the intermediary columns\n",
    "agg_data = agg_data.drop(columns=dl_columns + ul_columns)\n",
    "\n",
    "# Top 10 customers per engagement metric\n",
    "top_sessions = agg_data.nlargest(10, 'sessions_frequency')\n",
    "top_duration = agg_data.nlargest(10, 'total_duration')\n",
    "top_traffic = agg_data.nlargest(10, 'total_traffic')\n",
    "\n",
    "print(top_sessions)\n",
    "print(top_duration)\n",
    "print(top_traffic)"
   ]
  },
  {
   "cell_type": "markdown",
   "metadata": {},
   "source": [
    "## Aggregate User Total Traffic per Application"
   ]
  },
  {
   "cell_type": "code",
   "execution_count": 6,
   "metadata": {},
   "outputs": [
    {
     "name": "stdout",
     "output_type": "stream",
     "text": [
      "Top 10 by Social Media Traffic:\n",
      "                Social Media DL (Bytes)  Youtube DL (Bytes)  \\\n",
      "MSISDN/Number                                                \n",
      "3.362632e+10                42743837.0         164048706.0   \n",
      "3.376054e+10                39297646.0         194068298.0   \n",
      "3.365973e+10                34900444.0         119658146.0   \n",
      "3.361489e+10                27749744.0         199823443.0   \n",
      "3.362578e+10                26564121.0         237883033.0   \n",
      "3.366716e+10                23753753.0         141972692.0   \n",
      "3.378632e+10                23568655.0         118129859.0   \n",
      "3.366907e+10                23477047.0         136295265.0   \n",
      "3.360313e+10                22776679.0         158976704.0   \n",
      "3.365849e+10                22695673.0          64799443.0   \n",
      "\n",
      "               Netflix DL (Bytes)  Google DL (Bytes)  Email DL (Bytes)  \\\n",
      "MSISDN/Number                                                            \n",
      "3.362632e+10          199479238.0        116106455.0        33404785.0   \n",
      "3.376054e+10          146500839.0         88626532.0        26437895.0   \n",
      "3.365973e+10          196277206.0         90958549.0        29907647.0   \n",
      "3.361489e+10          179585986.0         93941708.0        33607211.0   \n",
      "3.362578e+10          193912238.0        107904739.0        31895412.0   \n",
      "3.366716e+10          167932406.0         71707826.0        23276752.0   \n",
      "3.378632e+10          163602702.0         78819810.0        30876908.0   \n",
      "3.366907e+10           78923699.0         54915216.0        17813584.0   \n",
      "3.360313e+10          156086546.0         73942055.0        20343728.0   \n",
      "3.365849e+10           78217369.0         55457602.0        15004556.0   \n",
      "\n",
      "               Gaming DL (Bytes)  Other DL (Bytes)  \n",
      "MSISDN/Number                                       \n",
      "3.362632e+10        6.745734e+09      8.025477e+09  \n",
      "3.376054e+10        7.316364e+09      4.590038e+09  \n",
      "3.365973e+10        6.609900e+09      6.182551e+09  \n",
      "3.361489e+10        7.622035e+09      7.495298e+09  \n",
      "3.362578e+10        7.171884e+09      6.201653e+09  \n",
      "3.366716e+10        4.623424e+09      4.837534e+09  \n",
      "3.378632e+10        4.740903e+09      4.172594e+09  \n",
      "3.366907e+10        3.166462e+09      4.540939e+09  \n",
      "3.360313e+10        4.108482e+09      6.222705e+09  \n",
      "3.365849e+10        2.071045e+09      4.239611e+09  \n",
      "\n",
      "Top 10 by YouTube Traffic:\n",
      "                Social Media DL (Bytes)  Youtube DL (Bytes)  \\\n",
      "MSISDN/Number                                                \n",
      "3.362578e+10                26564121.0         237883033.0   \n",
      "3.361489e+10                27749744.0         199823443.0   \n",
      "3.376054e+10                39297646.0         194068298.0   \n",
      "3.362708e+10                17438671.0         187323322.0   \n",
      "3.376041e+10                20515774.0         174245981.0   \n",
      "3.369879e+10                15390784.0         166900329.0   \n",
      "3.362632e+10                42743837.0         164048706.0   \n",
      "3.360313e+10                22776679.0         158976704.0   \n",
      "3.367588e+10                18655364.0         158665235.0   \n",
      "3.366471e+10                19035729.0         153074482.0   \n",
      "\n",
      "               Netflix DL (Bytes)  Google DL (Bytes)  Email DL (Bytes)  \\\n",
      "MSISDN/Number                                                            \n",
      "3.362578e+10          193912238.0        107904739.0        31895412.0   \n",
      "3.361489e+10          179585986.0         93941708.0        33607211.0   \n",
      "3.376054e+10          146500839.0         88626532.0        26437895.0   \n",
      "3.362708e+10          144623204.0         62722401.0        17353955.0   \n",
      "3.376041e+10          167023809.0         56331853.0        21791296.0   \n",
      "3.369879e+10          103027247.0         59943992.0        24165599.0   \n",
      "3.362632e+10          199479238.0        116106455.0        33404785.0   \n",
      "3.360313e+10          156086546.0         73942055.0        20343728.0   \n",
      "3.367588e+10          161626462.0         83002994.0        24284723.0   \n",
      "3.366471e+10          134941569.0         64946017.0        15213560.0   \n",
      "\n",
      "               Gaming DL (Bytes)  Other DL (Bytes)  \n",
      "MSISDN/Number                                       \n",
      "3.362578e+10        7.171884e+09      6.201653e+09  \n",
      "3.361489e+10        7.622035e+09      7.495298e+09  \n",
      "3.376054e+10        7.316364e+09      4.590038e+09  \n",
      "3.362708e+10        4.880017e+09      5.039747e+09  \n",
      "3.376041e+10        6.170943e+09      3.988504e+09  \n",
      "3.369879e+10        5.641128e+09      4.598153e+09  \n",
      "3.362632e+10        6.745734e+09      8.025477e+09  \n",
      "3.360313e+10        4.108482e+09      6.222705e+09  \n",
      "3.367588e+10        6.863307e+09      6.665074e+09  \n",
      "3.366471e+10        6.013562e+09      3.868637e+09  \n",
      "\n",
      "Top 10 by Netflix Traffic:\n",
      "                Social Media DL (Bytes)  Youtube DL (Bytes)  \\\n",
      "MSISDN/Number                                                \n",
      "3.362632e+10                42743837.0         164048706.0   \n",
      "3.365973e+10                34900444.0         119658146.0   \n",
      "3.362578e+10                26564121.0         237883033.0   \n",
      "3.361489e+10                27749744.0         199823443.0   \n",
      "3.366716e+10                23753753.0         141972692.0   \n",
      "3.376127e+10                14201427.0         119056471.0   \n",
      "3.376041e+10                20515774.0         174245981.0   \n",
      "3.378632e+10                23568655.0         118129859.0   \n",
      "3.367588e+10                18655364.0         158665235.0   \n",
      "3.360313e+10                22776679.0         158976704.0   \n",
      "\n",
      "               Netflix DL (Bytes)  Google DL (Bytes)  Email DL (Bytes)  \\\n",
      "MSISDN/Number                                                            \n",
      "3.362632e+10          199479238.0        116106455.0        33404785.0   \n",
      "3.365973e+10          196277206.0         90958549.0        29907647.0   \n",
      "3.362578e+10          193912238.0        107904739.0        31895412.0   \n",
      "3.361489e+10          179585986.0         93941708.0        33607211.0   \n",
      "3.366716e+10          167932406.0         71707826.0        23276752.0   \n",
      "3.376127e+10          167261139.0         72949803.0        15768841.0   \n",
      "3.376041e+10          167023809.0         56331853.0        21791296.0   \n",
      "3.378632e+10          163602702.0         78819810.0        30876908.0   \n",
      "3.367588e+10          161626462.0         83002994.0        24284723.0   \n",
      "3.360313e+10          156086546.0         73942055.0        20343728.0   \n",
      "\n",
      "               Gaming DL (Bytes)  Other DL (Bytes)  \n",
      "MSISDN/Number                                       \n",
      "3.362632e+10        6.745734e+09      8.025477e+09  \n",
      "3.365973e+10        6.609900e+09      6.182551e+09  \n",
      "3.362578e+10        7.171884e+09      6.201653e+09  \n",
      "3.361489e+10        7.622035e+09      7.495298e+09  \n",
      "3.366716e+10        4.623424e+09      4.837534e+09  \n",
      "3.376127e+10        4.165410e+09      4.997985e+09  \n",
      "3.376041e+10        6.170943e+09      3.988504e+09  \n",
      "3.378632e+10        4.740903e+09      4.172594e+09  \n",
      "3.367588e+10        6.863307e+09      6.665074e+09  \n",
      "3.360313e+10        4.108482e+09      6.222705e+09  \n"
     ]
    }
   ],
   "source": [
    "# Calculate total traffic per application for each user\n",
    "app_traffic = df_cleaned.groupby('MSISDN/Number').agg({\n",
    "    'Social Media DL (Bytes)': 'sum',\n",
    "    'Youtube DL (Bytes)': 'sum',\n",
    "    'Netflix DL (Bytes)': 'sum',\n",
    "    'Google DL (Bytes)': 'sum',\n",
    "    'Email DL (Bytes)': 'sum',\n",
    "    'Gaming DL (Bytes)': 'sum',\n",
    "    'Other DL (Bytes)': 'sum'\n",
    "})\n",
    "\n",
    "# Top 10 most engaged users per application\n",
    "top_social_media = app_traffic.nlargest(10, 'Social Media DL (Bytes)')\n",
    "top_youtube = app_traffic.nlargest(10, 'Youtube DL (Bytes)')\n",
    "top_netflix = app_traffic.nlargest(10, 'Netflix DL (Bytes)')\n",
    "\n",
    "print(\"Top 10 by Social Media Traffic:\\n\", top_social_media)\n",
    "print(\"\\nTop 10 by YouTube Traffic:\\n\", top_youtube)\n",
    "print(\"\\nTop 10 by Netflix Traffic:\\n\", top_netflix)"
   ]
  },
  {
   "cell_type": "markdown",
   "metadata": {},
   "source": [
    "## Normalize Engagement Metrics"
   ]
  },
  {
   "cell_type": "code",
   "execution_count": 7,
   "metadata": {},
   "outputs": [],
   "source": [
    "from sklearn.preprocessing import StandardScaler\n",
    "\n",
    "scaler = StandardScaler()\n",
    "normalized_data = scaler.fit_transform(agg_data)"
   ]
  },
  {
   "cell_type": "markdown",
   "metadata": {},
   "source": [
    "## Run K-Means Clustering (k=3)"
   ]
  },
  {
   "cell_type": "code",
   "execution_count": 8,
   "metadata": {},
   "outputs": [],
   "source": [
    "from sklearn.cluster import KMeans\n",
    "\n",
    "kmeans = KMeans(n_clusters=3, random_state=42)\n",
    "agg_data['cluster'] = kmeans.fit_predict(normalized_data)"
   ]
  },
  {
   "cell_type": "markdown",
   "metadata": {},
   "source": [
    "## Compute Metrics for Each Cluster"
   ]
  },
  {
   "cell_type": "code",
   "execution_count": 9,
   "metadata": {},
   "outputs": [
    {
     "name": "stdout",
     "output_type": "stream",
     "text": [
      "         min_sessions  max_sessions  avg_sessions  total_sessions  \\\n",
      "cluster                                                             \n",
      "0                   1             4      2.162559           53173   \n",
      "1                   1             2      1.011686           79474   \n",
      "2                   2            18      4.387931           16288   \n",
      "\n",
      "         min_duration  max_duration   avg_duration  total_duration  \\\n",
      "cluster                                                              \n",
      "0             18235.0     1573420.0  209279.048316    5.145753e+09   \n",
      "1              7142.0     1042254.0  102788.667549    8.074667e+09   \n",
      "2             66594.0    18553754.0  646125.497845    2.398418e+09   \n",
      "\n",
      "          min_traffic   max_traffic   avg_traffic  total_traffic  \n",
      "cluster                                                           \n",
      "0        3.600827e+08  4.529200e+09  1.999845e+09   4.917218e+13  \n",
      "1        5.836229e+07  1.780674e+09  9.176694e+08   7.208844e+13  \n",
      "2        1.109176e+09  1.634152e+10  4.120799e+09   1.529641e+13  \n"
     ]
    }
   ],
   "source": [
    "cluster_metrics = agg_data.groupby('cluster').agg(\n",
    "    min_sessions=('sessions_frequency', 'min'),\n",
    "    max_sessions=('sessions_frequency', 'max'),\n",
    "    avg_sessions=('sessions_frequency', 'mean'),\n",
    "    total_sessions=('sessions_frequency', 'sum'),\n",
    "    min_duration=('total_duration', 'min'),\n",
    "    max_duration=('total_duration', 'max'),\n",
    "    avg_duration=('total_duration', 'mean'),\n",
    "    total_duration=('total_duration', 'sum'),\n",
    "    min_traffic=('total_traffic', 'min'),\n",
    "    max_traffic=('total_traffic', 'max'),\n",
    "    avg_traffic=('total_traffic', 'mean'),\n",
    "    total_traffic=('total_traffic', 'sum')\n",
    ")\n",
    "\n",
    "print(cluster_metrics)"
   ]
  },
  {
   "cell_type": "markdown",
   "metadata": {},
   "source": [
    "## Visualize Results"
   ]
  },
  {
   "cell_type": "code",
   "execution_count": 10,
   "metadata": {},
   "outputs": [
    {
     "data": {
      "image/png": "[encoded data removed]",
      "text/plain": [
       "<Figure size 640x480 with 1 Axes>"
      ]
     },
     "metadata": {},
     "output_type": "display_data"
    }
   ],
   "source": [
    "import matplotlib.pyplot as plt\n",
    "import seaborn as sns\n",
    "\n",
    "sns.barplot(x=cluster_metrics.index, y=cluster_metrics['avg_sessions'])\n",
    "plt.title('Average Sessions per Cluster')\n",
    "plt.show()"
   ]
  },
  {
   "cell_type": "markdown",
   "metadata": {},
   "source": [
    "## Elbow Method to Optimize k"
   ]
  },
  {
   "cell_type": "code",
   "execution_count": 11,
   "metadata": {},
   "outputs": [
    {
     "data": {
      "image/png": "[encoded data removed]",
      "text/plain": [
       "<Figure size 640x480 with 1 Axes>"
      ]
     },
     "metadata": {},
     "output_type": "display_data"
    }
   ],
   "source": [
    "import matplotlib.pyplot as plt\n",
    "\n",
    "inertia = []\n",
    "for k in range(1, 11):\n",
    "    kmeans = KMeans(n_clusters=k, random_state=42)\n",
    "    kmeans.fit(normalized_data)\n",
    "    inertia.append(kmeans.inertia_)\n",
    "\n",
    "plt.plot(range(1, 11), inertia, marker='o')\n",
    "plt.title('Elbow Method')\n",
    "plt.xlabel('Number of clusters')\n",
    "plt.ylabel('Inertia')\n",
    "plt.show()"
   ]
  },
  {
   "cell_type": "markdown",
   "metadata": {},
   "source": [
    "## Top 3 Applications"
   ]
  },
  {
   "cell_type": "code",
   "execution_count": 14,
   "metadata": {},
   "outputs": [
    {
     "name": "stdout",
     "output_type": "stream",
     "text": [
      "Gaming DL (Bytes)     6.285438e+13\n",
      "Other DL (Bytes)      6.272357e+13\n",
      "Youtube DL (Bytes)    1.732628e+12\n",
      "dtype: float64\n"
     ]
    },
    {
     "data": {
      "image/png": "[encoded data removed]",
      "text/plain": [
       "<Figure size 640x480 with 1 Axes>"
      ]
     },
     "metadata": {},
     "output_type": "display_data"
    }
   ],
   "source": [
    "app_traffic = df_cleaned[['Social Media DL (Bytes)', 'Youtube DL (Bytes)', 'Netflix DL (Bytes)', \n",
    "                    'Google DL (Bytes)', 'Email DL (Bytes)', 'Gaming DL (Bytes)', 'Other DL (Bytes)']].sum()\n",
    "\n",
    "top_apps = app_traffic.nlargest(3)\n",
    "\n",
    "print(top_apps)\n",
    "\n",
    "#plot the top 3\n",
    "top_apps.plot(kind='bar')\n",
    "plt.title('Top 3 Most Used Applications')\n",
    "plt.ylabel('Total Traffic (Bytes)')\n",
    "plt.show()"
   ]
  }
 ],
 "metadata": {
  "kernelspec": {
   "display_name": "base",
   "language": "python",
   "name": "python3"
  },
  "language_info": {
   "codemirror_mode": {
    "name": "ipython",
    "version": 3
   },
   "file_extension": ".py",
   "mimetype": "text/x-python",
   "name": "python",
   "nbconvert_exporter": "python",
   "pygments_lexer": "ipython3",
   "version": "3.12.4"
  }
 },
 "nbformat": 4,
 "nbformat_minor": 2
}
